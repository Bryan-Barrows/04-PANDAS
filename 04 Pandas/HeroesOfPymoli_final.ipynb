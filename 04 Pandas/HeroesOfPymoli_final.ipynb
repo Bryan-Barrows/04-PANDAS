{
 "cells": [
  {
   "cell_type": "markdown",
   "metadata": {},
   "source": [
    "### Heroes Of Pymoli Data Analysis\n",
    "* Of the 1163 active players, the vast majority are male (84%). There also exists, a smaller, but notable proportion of female players (14%).\n",
    "\n",
    "* Our peak age demographic falls between 20-24 (44.8%) with secondary groups falling between 15-19 (18.60%) and 25-29 (13.4%).  \n",
    "-----"
   ]
  },
  {
   "cell_type": "markdown",
   "metadata": {},
   "source": [
    "### Note\n",
    "* Instructions have been included for each segment. You do not have to follow them exactly, but they are included to help you think through the steps."
   ]
  },
  {
   "cell_type": "code",
   "execution_count": 1,
   "metadata": {},
   "outputs": [],
   "source": [
    "# Dependencies and Setup\n",
    "import pandas as pd\n",
    "import numpy as np\n",
    "\n",
    "# File to Load (Remember to Change These)\n",
    "file_to_load = \"Resources/purchase_data.csv\"\n",
    "\n",
    "# Read Purchasing File and store into Pandas data frame\n",
    "purchase_data = pd.read_csv(file_to_load)"
   ]
  },
  {
   "cell_type": "markdown",
   "metadata": {},
   "source": [
    "## Player Count"
   ]
  },
  {
   "cell_type": "markdown",
   "metadata": {},
   "source": [
    "* Display the total number of players\n"
   ]
  },
  {
   "cell_type": "code",
   "execution_count": 2,
   "metadata": {},
   "outputs": [
    {
     "data": {
      "text/html": [
       "<div>\n",
       "<style scoped>\n",
       "    .dataframe tbody tr th:only-of-type {\n",
       "        vertical-align: middle;\n",
       "    }\n",
       "\n",
       "    .dataframe tbody tr th {\n",
       "        vertical-align: top;\n",
       "    }\n",
       "\n",
       "    .dataframe thead th {\n",
       "        text-align: right;\n",
       "    }\n",
       "</style>\n",
       "<table border=\"1\" class=\"dataframe\">\n",
       "  <thead>\n",
       "    <tr style=\"text-align: right;\">\n",
       "      <th></th>\n",
       "      <th>Total Players</th>\n",
       "    </tr>\n",
       "  </thead>\n",
       "  <tbody>\n",
       "    <tr>\n",
       "      <th>0</th>\n",
       "      <td>576</td>\n",
       "    </tr>\n",
       "  </tbody>\n",
       "</table>\n",
       "</div>"
      ],
      "text/plain": [
       "   Total Players\n",
       "0            576"
      ]
     },
     "execution_count": 2,
     "metadata": {},
     "output_type": "execute_result"
    }
   ],
   "source": [
    "player_count = len(purchase_data[\"SN\"].value_counts())\n",
    "pd.DataFrame([player_count], columns = [\"Total Players\"])"
   ]
  },
  {
   "cell_type": "markdown",
   "metadata": {},
   "source": [
    "## Purchasing Analysis (Total)"
   ]
  },
  {
   "cell_type": "markdown",
   "metadata": {},
   "source": [
    "* Run basic calculations to obtain number of unique items, average price, etc.\n",
    "\n",
    "\n",
    "* Create a summary data frame to hold the results\n",
    "\n",
    "\n",
    "* Optional: give the displayed data cleaner formatting\n",
    "\n",
    "\n",
    "* Display the summary data frame\n"
   ]
  },
  {
   "cell_type": "code",
   "execution_count": 3,
   "metadata": {
    "scrolled": true
   },
   "outputs": [
    {
     "data": {
      "text/html": [
       "<div>\n",
       "<style scoped>\n",
       "    .dataframe tbody tr th:only-of-type {\n",
       "        vertical-align: middle;\n",
       "    }\n",
       "\n",
       "    .dataframe tbody tr th {\n",
       "        vertical-align: top;\n",
       "    }\n",
       "\n",
       "    .dataframe thead th {\n",
       "        text-align: right;\n",
       "    }\n",
       "</style>\n",
       "<table border=\"1\" class=\"dataframe\">\n",
       "  <thead>\n",
       "    <tr style=\"text-align: right;\">\n",
       "      <th></th>\n",
       "      <th>Number of Unique Items</th>\n",
       "      <th>Average Price</th>\n",
       "      <th>Number of Purchases</th>\n",
       "      <th>Total</th>\n",
       "    </tr>\n",
       "  </thead>\n",
       "  <tbody>\n",
       "    <tr>\n",
       "      <th>0</th>\n",
       "      <td>183</td>\n",
       "      <td>$3.05</td>\n",
       "      <td>780</td>\n",
       "      <td>$2379.77</td>\n",
       "    </tr>\n",
       "  </tbody>\n",
       "</table>\n",
       "</div>"
      ],
      "text/plain": [
       "   Number of Unique Items Average Price  Number of Purchases     Total\n",
       "0                     183         $3.05                  780  $2379.77"
      ]
     },
     "execution_count": 3,
     "metadata": {},
     "output_type": "execute_result"
    }
   ],
   "source": [
    "# Finding # of unique items\n",
    "unique_items = len(purchase_data[\"Item ID\"].value_counts())\n",
    "\n",
    "# Total money spent\n",
    "total_revenue = round(purchase_data[\"Price\"].sum(), 2)\n",
    "\n",
    "# Number of purchases\n",
    "num_purchases = purchase_data[\"Price\"].count()\n",
    "\n",
    "# Average price\n",
    "average_price = round(purchase_data[\"Price\"].mean(), 2)\n",
    "\n",
    "# Create a list for analysis\n",
    "purchase_analysis = []\n",
    "\n",
    "# Appending values to list\n",
    "purchase_analysis.append(unique_items)\n",
    "purchase_analysis.append(\"$\" + str(average_price))\n",
    "purchase_analysis.append(num_purchases)\n",
    "purchase_analysis.append(\"$\" + str(total_revenue))\n",
    "\n",
    "# Convert to df\n",
    "pd.DataFrame([purchase_analysis], columns = [\"Number of Unique Items\", \"Average Price\", \"Number of Purchases\", \"Total\"])"
   ]
  },
  {
   "cell_type": "markdown",
   "metadata": {},
   "source": [
    "## Gender Demographics"
   ]
  },
  {
   "cell_type": "markdown",
   "metadata": {},
   "source": [
    "* Percentage and Count of Male Players\n",
    "\n",
    "\n",
    "* Percentage and Count of Female Players\n",
    "\n",
    "\n",
    "* Percentage and Count of Other / Non-Disclosed\n",
    "\n",
    "\n"
   ]
  },
  {
   "cell_type": "code",
   "execution_count": 4,
   "metadata": {},
   "outputs": [
    {
     "data": {
      "text/html": [
       "<div>\n",
       "<style scoped>\n",
       "    .dataframe tbody tr th:only-of-type {\n",
       "        vertical-align: middle;\n",
       "    }\n",
       "\n",
       "    .dataframe tbody tr th {\n",
       "        vertical-align: top;\n",
       "    }\n",
       "\n",
       "    .dataframe thead th {\n",
       "        text-align: right;\n",
       "    }\n",
       "</style>\n",
       "<table border=\"1\" class=\"dataframe\">\n",
       "  <thead>\n",
       "    <tr style=\"text-align: right;\">\n",
       "      <th></th>\n",
       "      <th>Percentage of Players</th>\n",
       "      <th>Total Count</th>\n",
       "    </tr>\n",
       "  </thead>\n",
       "  <tbody>\n",
       "    <tr>\n",
       "      <th>Male</th>\n",
       "      <td>84.00</td>\n",
       "      <td>484</td>\n",
       "    </tr>\n",
       "    <tr>\n",
       "      <th>Female</th>\n",
       "      <td>14.06</td>\n",
       "      <td>81</td>\n",
       "    </tr>\n",
       "    <tr>\n",
       "      <th>Other / Non-Disclosed</th>\n",
       "      <td>1.00</td>\n",
       "      <td>11</td>\n",
       "    </tr>\n",
       "  </tbody>\n",
       "</table>\n",
       "</div>"
      ],
      "text/plain": [
       "                       Percentage of Players  Total Count\n",
       "Male                                   84.00          484\n",
       "Female                                 14.06           81\n",
       "Other / Non-Disclosed                   1.00           11"
      ]
     },
     "execution_count": 4,
     "metadata": {},
     "output_type": "execute_result"
    }
   ],
   "source": [
    "# Grouping by gender\n",
    "gender_grouped = purchase_data[[\"SN\", \"Gender\"]]\n",
    "gender_grouped = gender_grouped.drop_duplicates()\n",
    "counts = gender_grouped[\"Gender\"].value_counts()\n",
    "\n",
    "# List of values\n",
    "total_counts = [counts[0], counts[1], counts[2]]\n",
    "percents_gender = [round((counts[0]/player_count)*100.2), round((counts[1]/player_count)*100,2), round((counts[2]/player_count)*100/2)]\n",
    "\n",
    "# Create a df\n",
    "gender_df = pd.DataFrame({\n",
    "    \"Percentage of Players\": percents_gender,\n",
    "    \"Total Count\": total_counts\n",
    "})\n",
    "gender_df.index = ([\"Male\", \"Female\", \"Other / Non-Disclosed\"])\n",
    "gender_df"
   ]
  },
  {
   "cell_type": "markdown",
   "metadata": {},
   "source": [
    "## Purchasing Analysis (Gender)"
   ]
  },
  {
   "cell_type": "markdown",
   "metadata": {},
   "source": [
    "* Run basic calculations to obtain purchase count, avg. purchase price, avg. purchase total per person etc. by gender\n",
    "\n",
    "\n",
    "\n",
    "\n",
    "* Create a summary data frame to hold the results\n",
    "\n",
    "\n",
    "* Optional: give the displayed data cleaner formatting\n",
    "\n",
    "\n",
    "* Display the summary data frame"
   ]
  },
  {
   "cell_type": "code",
   "execution_count": 5,
   "metadata": {},
   "outputs": [
    {
     "data": {
      "text/html": [
       "<style  type=\"text/css\" >\n",
       "</style>  \n",
       "<table id=\"T_269186f6_b39b_11e8_9321_98e7f45f81e7\" > \n",
       "<thead>    <tr> \n",
       "        <th class=\"blank level0\" ></th> \n",
       "        <th class=\"col_heading level0 col0\" >Purchase Count</th> \n",
       "        <th class=\"col_heading level0 col1\" >Average Purchase Price</th> \n",
       "        <th class=\"col_heading level0 col2\" >Total Purchase Value</th> \n",
       "        <th class=\"col_heading level0 col3\" >Normalized Totals</th> \n",
       "    </tr>    <tr> \n",
       "        <th class=\"index_name level0\" >Gender</th> \n",
       "        <th class=\"blank\" ></th> \n",
       "        <th class=\"blank\" ></th> \n",
       "        <th class=\"blank\" ></th> \n",
       "        <th class=\"blank\" ></th> \n",
       "    </tr></thead> \n",
       "<tbody>    <tr> \n",
       "        <th id=\"T_269186f6_b39b_11e8_9321_98e7f45f81e7level0_row0\" class=\"row_heading level0 row0\" >Male</th> \n",
       "        <td id=\"T_269186f6_b39b_11e8_9321_98e7f45f81e7row0_col0\" class=\"data row0 col0\" >652</td> \n",
       "        <td id=\"T_269186f6_b39b_11e8_9321_98e7f45f81e7row0_col1\" class=\"data row0 col1\" >$3.02</td> \n",
       "        <td id=\"T_269186f6_b39b_11e8_9321_98e7f45f81e7row0_col2\" class=\"data row0 col2\" >$1967.64</td> \n",
       "        <td id=\"T_269186f6_b39b_11e8_9321_98e7f45f81e7row0_col3\" class=\"data row0 col3\" >$4.07</td> \n",
       "    </tr>    <tr> \n",
       "        <th id=\"T_269186f6_b39b_11e8_9321_98e7f45f81e7level0_row1\" class=\"row_heading level0 row1\" >Female</th> \n",
       "        <td id=\"T_269186f6_b39b_11e8_9321_98e7f45f81e7row1_col0\" class=\"data row1 col0\" >113</td> \n",
       "        <td id=\"T_269186f6_b39b_11e8_9321_98e7f45f81e7row1_col1\" class=\"data row1 col1\" >$3.20</td> \n",
       "        <td id=\"T_269186f6_b39b_11e8_9321_98e7f45f81e7row1_col2\" class=\"data row1 col2\" >$361.94</td> \n",
       "        <td id=\"T_269186f6_b39b_11e8_9321_98e7f45f81e7row1_col3\" class=\"data row1 col3\" >$4.47</td> \n",
       "    </tr>    <tr> \n",
       "        <th id=\"T_269186f6_b39b_11e8_9321_98e7f45f81e7level0_row2\" class=\"row_heading level0 row2\" >Other / Non-Disclsoed</th> \n",
       "        <td id=\"T_269186f6_b39b_11e8_9321_98e7f45f81e7row2_col0\" class=\"data row2 col0\" >15</td> \n",
       "        <td id=\"T_269186f6_b39b_11e8_9321_98e7f45f81e7row2_col1\" class=\"data row2 col1\" >$3.35</td> \n",
       "        <td id=\"T_269186f6_b39b_11e8_9321_98e7f45f81e7row2_col2\" class=\"data row2 col2\" >$50.19</td> \n",
       "        <td id=\"T_269186f6_b39b_11e8_9321_98e7f45f81e7row2_col3\" class=\"data row2 col3\" >$4.56</td> \n",
       "    </tr></tbody> \n",
       "</table> "
      ],
      "text/plain": [
       "<pandas.io.formats.style.Styler at 0x252cf21cef0>"
      ]
     },
     "execution_count": 5,
     "metadata": {},
     "output_type": "execute_result"
    }
   ],
   "source": [
    "# Count of purchases by gender\n",
    "gender_grouped = purchase_data[[\"SN\", \"Gender\", \"Price\"]]\n",
    "counts_gender = gender_grouped[\"Gender\"].value_counts()\n",
    "\n",
    "# Purchase counts\n",
    "purchase_counts = [counts_gender[0], counts_gender[1], counts_gender[2]]\n",
    "\n",
    "gender_grouped = gender_grouped.groupby(\"Gender\")\n",
    "total_spent = gender_grouped.sum()\n",
    "total_spent\n",
    "\n",
    "# Total purchase value\n",
    "total_purch_value = [total_spent.iloc[1,0],total_spent.iloc[0,0],total_spent.iloc[2,0]]\n",
    "\n",
    "# Average purchase price\n",
    "avg_purch = [total_spent.iloc[1,0]/counts_gender[0],total_spent.iloc[0,0]/counts_gender[1],total_spent.iloc[2,0]/counts_gender[2]]\n",
    "\n",
    "# Normalized Totals\n",
    "normal_totals = [total_spent.iloc[1,0]/counts[0],total_spent.iloc[0,0]/counts[1],total_spent.iloc[2,0]/counts[2]]\n",
    "\n",
    "# Create a df\n",
    "purchase_analysis_gender_df = pd.DataFrame({\n",
    "    \"Purchase Count\": purchase_counts,\n",
    "    \"Average Purchase Price\": avg_purch,\n",
    "    \"Total Purchase Value\": total_purch_value,\n",
    "    \"Normalized Totals\": normal_totals,\n",
    "    \"Gender\": [\"Male\", \"Female\", \"Other / Non-Disclsoed\"]\n",
    "})\n",
    "purchase_analysis_gender_df = purchase_analysis_gender_df.set_index(\"Gender\")\n",
    "purchase_analysis_gender_df = purchase_analysis_gender_df[[\"Purchase Count\",\"Average Purchase Price\",\"Total Purchase Value\",\"Normalized Totals\"]]\n",
    "\n",
    "purchase_analysis_gender_df.style.format({\"Average Purchase Price\": \"${:.2f}\",\"Normalized Totals\": \"${:.2f}\", \"Total Purchase Value\": \"${:.2f}\"})"
   ]
  },
  {
   "cell_type": "markdown",
   "metadata": {},
   "source": [
    "## Age Demographics"
   ]
  },
  {
   "cell_type": "markdown",
   "metadata": {},
   "source": [
    "* Establish bins for ages\n",
    "\n",
    "\n",
    "* Categorize the existing players using the age bins. Hint: use pd.cut()\n",
    "\n",
    "\n",
    "* Calculate the numbers and percentages by age group\n",
    "\n",
    "\n",
    "* Create a summary data frame to hold the results\n",
    "\n",
    "\n",
    "* Optional: round the percentage column to two decimal points\n",
    "\n",
    "\n",
    "* Display Age Demographics Table\n"
   ]
  },
  {
   "cell_type": "code",
   "execution_count": 6,
   "metadata": {},
   "outputs": [
    {
     "data": {
      "text/html": [
       "<div>\n",
       "<style scoped>\n",
       "    .dataframe tbody tr th:only-of-type {\n",
       "        vertical-align: middle;\n",
       "    }\n",
       "\n",
       "    .dataframe tbody tr th {\n",
       "        vertical-align: top;\n",
       "    }\n",
       "\n",
       "    .dataframe thead th {\n",
       "        text-align: right;\n",
       "    }\n",
       "</style>\n",
       "<table border=\"1\" class=\"dataframe\">\n",
       "  <thead>\n",
       "    <tr style=\"text-align: right;\">\n",
       "      <th></th>\n",
       "      <th>Percent of Players</th>\n",
       "      <th>Total Count</th>\n",
       "    </tr>\n",
       "  </thead>\n",
       "  <tbody>\n",
       "    <tr>\n",
       "      <th>&lt;10</th>\n",
       "      <td>3.99</td>\n",
       "      <td>23</td>\n",
       "    </tr>\n",
       "    <tr>\n",
       "      <th>10-14</th>\n",
       "      <td>4.86</td>\n",
       "      <td>28</td>\n",
       "    </tr>\n",
       "    <tr>\n",
       "      <th>15-19</th>\n",
       "      <td>23.44</td>\n",
       "      <td>135</td>\n",
       "    </tr>\n",
       "    <tr>\n",
       "      <th>20-24</th>\n",
       "      <td>63.37</td>\n",
       "      <td>365</td>\n",
       "    </tr>\n",
       "    <tr>\n",
       "      <th>25-29</th>\n",
       "      <td>17.53</td>\n",
       "      <td>101</td>\n",
       "    </tr>\n",
       "    <tr>\n",
       "      <th>30-34</th>\n",
       "      <td>0.00</td>\n",
       "      <td>0</td>\n",
       "    </tr>\n",
       "    <tr>\n",
       "      <th>35-39</th>\n",
       "      <td>7.12</td>\n",
       "      <td>41</td>\n",
       "    </tr>\n",
       "    <tr>\n",
       "      <th>40+</th>\n",
       "      <td>2.26</td>\n",
       "      <td>13</td>\n",
       "    </tr>\n",
       "  </tbody>\n",
       "</table>\n",
       "</div>"
      ],
      "text/plain": [
       "       Percent of Players  Total Count\n",
       "<10                  3.99           23\n",
       "10-14                4.86           28\n",
       "15-19               23.44          135\n",
       "20-24               63.37          365\n",
       "25-29               17.53          101\n",
       "30-34                0.00            0\n",
       "35-39                7.12           41\n",
       "40+                  2.26           13"
      ]
     },
     "execution_count": 6,
     "metadata": {},
     "output_type": "execute_result"
    }
   ],
   "source": [
    "df = purchase_data[[\"SN\",\"Age\",\"Price\"]]\n",
    "df = df.drop_duplicates()\n",
    "\n",
    "# Age bins\n",
    "age_10 = df[df[\"Age\"] < 10].count()[0]\n",
    "age_14 = df[(df[\"Age\"] >= 10) & (df[\"Age\"] <= 14)].count()[0]\n",
    "age_19 = df[(df[\"Age\"] >= 15) & (df[\"Age\"] <= 19)].count()[0]\n",
    "age_24 = df[(df[\"Age\"] >= 20) & (df[\"Age\"] <= 24)].count()[0]\n",
    "age_29 = df[(df[\"Age\"] >= 25) & (df[\"Age\"] <= 29)].count()[0]\n",
    "age_34 = df[(df[\"Age\"] >= 30) & (df[\"Age\"] <= 24)].count()[0]\n",
    "age_39 = df[(df[\"Age\"] >= 35) & (df[\"Age\"] <= 39)].count()[0]\n",
    "age_40 = df[df[\"Age\"] >= 40].count()[0]\n",
    "ages = [age_10, age_14, age_19, age_24, age_29, age_34, age_39, age_40]\n",
    "\n",
    "# Percents\n",
    "percent10 = round((age_10/player_count)*100,2)\n",
    "percent14 = round((age_14/player_count)*100,2)\n",
    "percent19 = round((age_19/player_count)*100,2)\n",
    "percent24 = round((age_24/player_count)*100,2)\n",
    "percent29 = round((age_29/player_count)*100,2)\n",
    "percent34 = round((age_34/player_count)*100,2)\n",
    "percent39 = round((age_39/player_count)*100,2)\n",
    "percent40 = round((age_40/player_count)*100,2)\n",
    "percents = [percent10, percent14, percent19, percent24, percent29, percent34, percent39, percent40]\n",
    "\n",
    "# creating dictionary for demos\n",
    "age_demo = {\n",
    "    \"Percent of Players\": percents,\n",
    "    \"Total Count\": ages\n",
    "}\n",
    "\n",
    "# Creating dataframe\n",
    "age_df = pd.DataFrame(age_demo)\n",
    "age_df.index = ([\"<10\", \"10-14\", \"15-19\", \"20-24\", \"25-29\", \"30-34\", \"35-39\", \"40+\"])\n",
    "age_df"
   ]
  },
  {
   "cell_type": "markdown",
   "metadata": {},
   "source": [
    "## Purchasing Analysis (Age)"
   ]
  },
  {
   "cell_type": "markdown",
   "metadata": {},
   "source": [
    "* Bin the purchase_data data frame by age\n",
    "\n",
    "\n",
    "* Run basic calculations to obtain purchase count, avg. purchase price, avg. purchase total per person etc. in the table below\n",
    "\n",
    "\n",
    "* Create a summary data frame to hold the results\n",
    "\n",
    "\n",
    "* Optional: give the displayed data cleaner formatting\n",
    "\n",
    "\n",
    "* Display the summary data frame"
   ]
  },
  {
   "cell_type": "code",
   "execution_count": 7,
   "metadata": {},
   "outputs": [
    {
     "ename": "NameError",
     "evalue": "name 'purchase_10' is not defined",
     "output_type": "error",
     "traceback": [
      "\u001b[1;31m---------------------------------------------------------------------------\u001b[0m",
      "\u001b[1;31mNameError\u001b[0m                                 Traceback (most recent call last)",
      "\u001b[1;32m<ipython-input-7-0f8b4adff553>\u001b[0m in \u001b[0;36m<module>\u001b[1;34m()\u001b[0m\n\u001b[0;32m     22\u001b[0m \u001b[1;33m\u001b[0m\u001b[0m\n\u001b[0;32m     23\u001b[0m \u001b[1;31m# Average purchase price\u001b[0m\u001b[1;33m\u001b[0m\u001b[1;33m\u001b[0m\u001b[0m\n\u001b[1;32m---> 24\u001b[1;33m avg_price = [total_10/purchase_10, total_14/purchase_14, total_19/purchase_19, total_24/purchase_24, total_29/purchase_29, \n\u001b[0m\u001b[0;32m     25\u001b[0m              total_34/purchase_34, total_39/purchase_39, total_40/purchase_40]\n\u001b[0;32m     26\u001b[0m \u001b[1;33m\u001b[0m\u001b[0m\n",
      "\u001b[1;31mNameError\u001b[0m: name 'purchase_10' is not defined"
     ]
    }
   ],
   "source": [
    "# Purchase count\n",
    "purchases_10 = df[df[\"Age\"] < 10].count()[0]\n",
    "purchases_14 = df[(df[\"Age\"] >= 10) & (df[\"Age\"] <= 14)].count()[0]\n",
    "purchases_19 = df[(df[\"Age\"] >= 15) & (df[\"Age\"] <= 19)].count()[0]\n",
    "purchases_24 = df[(df[\"Age\"] >= 20) & (df[\"Age\"] <= 24)].count()[0]\n",
    "purchases_29 = df[(df[\"Age\"] >= 25) & (df[\"Age\"] <= 29)].count()[0]\n",
    "purchases_34 = df[(df[\"Age\"] >= 30) & (df[\"Age\"] <= 24)].count()[0]\n",
    "purchases_39 = df[(df[\"Age\"] >= 35) & (df[\"Age\"] <= 39)].count()[0]\n",
    "purchases_40 = df[df[\"Age\"] >= 40].count()[0]\n",
    "purchases = [purchases_10, purchases_14, purchases_19, purchases_24, purchases_29, purchases_34, purchases_39, purchases_40]\n",
    "\n",
    "# total purchase value\n",
    "total_10 = df.loc[df[\"Age\"] < 10, 'Price'].sum()\n",
    "total_14 = df.loc[(df[\"Age\"] >= 10) & (df[\"Age\"] <= 14), 'Price'].sum()\n",
    "total_19 = df.loc[(df[\"Age\"] >= 15) & (df[\"Age\"] <= 19), 'Price'].sum()\n",
    "total_24 = df.loc[(df[\"Age\"] >= 20) & (df[\"Age\"] <= 24), 'Price'].sum()\n",
    "total_29 = df.loc[(df[\"Age\"] >= 25) & (df[\"Age\"] <= 29), 'Price'].sum()\n",
    "total_34 = df.loc[(df[\"Age\"] >= 30) & (df[\"Age\"] <= 34), 'Price'].sum()\n",
    "total_39 = df.loc[(df[\"Age\"] >= 35) & (df[\"Age\"] <= 39), 'Price'].sum()\n",
    "total_40 = df.loc[df[\"Age\"] >= 40, 'Price'].sum()\n",
    "totals = [total_10, total_14, total_19, total_24, total_29, total_34, total_39, total_40]\n",
    "\n",
    "# Average purchase price\n",
    "avg_price = [total_10/purchase_10, total_14/purchase_14, total_19/purchase_19, total_24/purchase_24, total_29/purchase_29, \n",
    "             total_34/purchase_34, total_39/purchase_39, total_40/purchase_40]\n",
    "\n",
    "# Normalized totals\n",
    "normalized = [total_10/age_10, total_14/age_14, total_19/age_19, total_24/age_24, total_29/age_29, total_34/age_34,\n",
    "             total_39/age_39, total_40/age_40]\n",
    "\n",
    "# creating a dictionary\n",
    "purchase_analysis = {\n",
    "    \"Purchase Count\": purchases,\n",
    "    \"Average Purchase Price\": avg_price,\n",
    "    \"Total Purchase Value\": totals,\n",
    "    \"Normalized Totals\": normalized\n",
    "}\n",
    "\n",
    "# creating dataframe\n",
    "purchase_analysis_df = pd.DataFrame(purchase_analysis)\n",
    "purchase_analysis_df = purchase_analysis_df[['Purchase Count', 'Average Purchase Price', 'Total Purchase Value', 'Normalized Totals']]\n",
    "purchase_analysis_df.index = ([\"<10\", \"10-14\", \"15-19\", \"20-24\", \"25-29\", \"30-34\", \"35-39\", \"40+\"])\n",
    "purchase_analysis_df.style.format({\"Average Purchase Price\": \"${:.2f}\",\"Normalized Totals\": \"${:.2f}\",\"Total Purchase Value\": \"${:.2f}\"})"
   ]
  },
  {
   "cell_type": "markdown",
   "metadata": {},
   "source": [
    "## Top Spenders"
   ]
  },
  {
   "cell_type": "markdown",
   "metadata": {},
   "source": [
    "* Run basic calculations to obtain the results in the table below\n",
    "\n",
    "\n",
    "* Create a summary data frame to hold the results\n",
    "\n",
    "\n",
    "* Sort the total purchase value column in descending order\n",
    "\n",
    "\n",
    "* Optional: give the displayed data cleaner formatting\n",
    "\n",
    "\n",
    "* Display a preview of the summary data frame\n",
    "\n"
   ]
  },
  {
   "cell_type": "code",
   "execution_count": null,
   "metadata": {},
   "outputs": [],
   "source": [
    "df2 = purchase_data[[\"SN\", \"Price\",\"Item Name\"]]\n",
    "total_spent = df2.groupby(\"SN\").sum()\n",
    "total_spent.sort_values(by = \"Price\", ascending = False, inplace = True)\n",
    "\n",
    "# Top spender SN\n",
    "names = list(total_spent.index.values)\n",
    "top_names = [names[0], names[1], names[2], names[3], names[4]]\n",
    "\n",
    "# Total purchase values\n",
    "total_purchase_values_1 = total_spent.iloc[0,0]\n",
    "total_purchase_values_2 = total_spent.iloc[1,0]\n",
    "total_purchase_values_3 = total_spent.iloc[2,0]\n",
    "total_purchase_values_4 = total_spent.iloc[3,0]\n",
    "total_purchase_values_5 = total_spent.iloc[4,0]\n",
    "top_purchase_values = [total_spent.iloc[0,0],total_spent.iloc[1,0],total_spent.iloc[2,0],total_spent.iloc[3,0],total_spent.iloc[4,0]]\n",
    "\n",
    "# Purchase counts\n",
    "top_purchase_counts_1 = df2[df2[\"SN\"] == names[0]].count()[0]\n",
    "top_purchase_counts_2 = df2[df2[\"SN\"] == names[1]].count()[0]\n",
    "top_purchase_counts_3 = df2[df2[\"SN\"] == names[2]].count()[0]\n",
    "top_purchase_counts_4 = df2[df2[\"SN\"] == names[3]].count()[0]\n",
    "top_purchase_counts_5 = df2[df2[\"SN\"] == names[4]].count()[0]\n",
    "top_purchase_counts = [top_purchase_counts_1,top_purchase_counts_2,top_purchase_counts_3,top_purchase_counts_4,top_purchase_counts_5]\n",
    "\n",
    "# Average purchase prices\n",
    "avg_price_1 = total_purchase_values_1/top_purchase_counts_1\n",
    "avg_price_2 = total_purchase_values_2/top_purchase_counts_2\n",
    "avg_price_3 = total_purchase_values_3/top_purchase_counts_3\n",
    "avg_price_4 = total_purchase_values_4/top_purchase_counts_4\n",
    "avg_price_5 = total_purchase_values_5/top_purchase_counts_5\n",
    "avg_prices = [avg_price_1,avg_price_2,avg_price_3,avg_price_4,avg_price_5]\n",
    "\n",
    "# Creating a dictionary\n",
    "top_spenders_dict = {\n",
    "    \"Purchase Count\": top_purchase_counts,\n",
    "    \"Average Purchase Price\": avg_prices,\n",
    "    \"Total Purchase Value\": top_purchase_values,\n",
    "    \"SN\": top_names\n",
    "}\n",
    "\n",
    "# creating a dataframe\n",
    "top_spenders_df = pd.DataFrame(top_spenders_dict)\n",
    "top_spenders_df = top_spenders_df.set_index(\"SN\")\n",
    "top_spenders_df = top_spenders_df[[\"Purchase Count\", \"Average Purchase Price\", \"Total Purchase Value\"]]\n",
    "\n",
    "#Formatting\n",
    "top_spenders_df.style.format({\"Average Purchase Price\": \"${:.2f}\",\"Total Purchase Value\": \"${:.2f}\"})"
   ]
  },
  {
   "cell_type": "markdown",
   "metadata": {},
   "source": [
    "## Most Popular Items"
   ]
  },
  {
   "cell_type": "markdown",
   "metadata": {},
   "source": [
    "* Retrieve the Item ID, Item Name, and Item Price columns\n",
    "\n",
    "\n",
    "* Group by Item ID and Item Name. Perform calculations to obtain purchase count, item price, and total purchase value\n",
    "\n",
    "\n",
    "* Create a summary data frame to hold the results\n",
    "\n",
    "\n",
    "* Sort the purchase count column in descending order\n",
    "\n",
    "\n",
    "* Optional: give the displayed data cleaner formatting\n",
    "\n",
    "\n",
    "* Display a preview of the summary data frame\n",
    "\n"
   ]
  },
  {
   "cell_type": "code",
   "execution_count": null,
   "metadata": {},
   "outputs": [],
   "source": [
    "df3 = purchase_data[[\"Item ID\", \"Item Name\", \"Price\"]]\n",
    "pop_items = df3.groupby(\"Item ID\").count()\n",
    "pop_items.sort_values(by = \"Item Name\", ascending = False, inplace = True)\n",
    "df3 = df3.drop_duplicates([\"Item ID\", \"Item Name\"])\n",
    "\n",
    "# Item IDs\n",
    "item_ids = [pop_items.index[0], pop_items.index[1], pop_items.index[2],pop_items.index[3],pop_items.index[4]]\n",
    "\n",
    "#item names\n",
    "name_1 = df3.loc[df3[\"Item ID\"] == item_ids[0], \"Item Name\"].item()\n",
    "name_2 = df3.loc[df3[\"Item ID\"] == item_ids[1], \"Item Name\"].item()\n",
    "name_3 = df3.loc[df3[\"Item ID\"] == item_ids[2], \"Item Name\"].item()\n",
    "name_4 = df3.loc[df3[\"Item ID\"] == item_ids[3], \"Item Name\"].item()\n",
    "name_5 = df3.loc[df3[\"Item ID\"] == item_ids[4], \"Item Name\"].item()\n",
    "pop_item_names = [name_1, name_2, name_3, name_4, name_5]\n",
    "\n",
    "#purchase counts\n",
    "item_counts = [pop_items.iloc[0,0],pop_items.iloc[1,0],pop_items.iloc[2,0],pop_items.iloc[3,0],pop_items.iloc[4,0]]\n",
    "\n",
    "# item prices\n",
    "price_1 = df3.loc[df3[\"Item Name\"] == pop_item_names[0], \"Price\"].item()\n",
    "price_2 = df3.loc[df3[\"Item Name\"] == pop_item_names[1], \"Price\"].item()\n",
    "price_3 = df3.loc[df3[\"Item Name\"] == pop_item_names[2], \"Price\"].item()\n",
    "price_4 = df3.loc[df3[\"Item Name\"] == pop_item_names[3], \"Price\"].item()\n",
    "price_5 = df3.loc[df3[\"Item Name\"] == pop_item_names[4], \"Price\"].item()\n",
    "item_prices = [price_1, price_2, price_3, price_4, price_5]\n",
    "\n",
    "# total purchase value\n",
    "total_values = [pop_items.iloc[0,0]*price_1,pop_items.iloc[1,0]*price_2,pop_items.iloc[2,0]*price_3,pop_items.iloc[3,0]*price_4,\n",
    "               pop_items.iloc[4,0]*price_5]\n",
    "\n",
    "# creating dataframe\n",
    "pop_items_df = pd.DataFrame({\n",
    "    \"Item ID\": item_ids,\n",
    "    \"Item Name\": pop_item_names,\n",
    "    \"Purchase Count\": item_counts,\n",
    "    \"Item Price\": item_prices,\n",
    "    \"Total Purchase Value\": total_values\n",
    "})\n",
    "\n",
    "pop_items_df = pop_items_df.set_index([\"Item ID\", \"Item Name\"])\n",
    "pop_items_df = pop_items_df[[\"Purchase Count\", \"Item Price\", \"Total Purchase Value\"]]\n",
    "\n",
    "pop_items_df.style.format({\"Item Price\": \"${:.2f}\",\"Total Purchase Value\": \"${:.2f}\"})"
   ]
  },
  {
   "cell_type": "markdown",
   "metadata": {},
   "source": [
    "## Most Profitable Items"
   ]
  },
  {
   "cell_type": "markdown",
   "metadata": {},
   "source": [
    "* Sort the above table by total purchase value in descending order\n",
    "\n",
    "\n",
    "* Optional: give the displayed data cleaner formatting\n",
    "\n",
    "\n",
    "* Display a preview of the data frame\n",
    "\n"
   ]
  },
  {
   "cell_type": "code",
   "execution_count": null,
   "metadata": {
    "scrolled": true
   },
   "outputs": [],
   "source": [
    "df4 = df4 = purchase_data[[\"Item ID\", \"Item Name\",\"Price\"]]\n",
    "profit_items = df4.groupby(\"Item ID\").sum()\n",
    "profit_items.sort_values(by=\"Price\", ascending = False, inplace = True)\n",
    "df4 = df4.drop_duplicates([\"Item ID\", \"Price\"])\n",
    "\n",
    "# item ids\n",
    "name_1 = df3.loc[df3[\"Item ID\"] == item_ids[0], \"Item Name\"].item()\n",
    "name_2 = df3.loc[df3[\"Item ID\"] == item_ids[1], \"Item Name\"].item()\n",
    "name_3 = df3.loc[df3[\"Item ID\"] == item_ids[2], \"Item Name\"].item()\n",
    "name_4 = df3.loc[df3[\"Item ID\"] == item_ids[3], \"Item Name\"].item()\n",
    "name_5 = df3.loc[df3[\"Item ID\"] == item_ids[4], \"Item Name\"].item()\n",
    "profit_names = [name_1, name_2, name_3, name_4, name_5]\n",
    "\n",
    "#Total purchase value\n",
    "values = [profit_items.iloc[0,0],profit_items.iloc[1,0],profit_items.iloc[2,0],profit_items.iloc[3,0],profit_items.iloc[4,0]]\n",
    "\n",
    "#item price\n",
    "price_1 = df3.loc[df3[\"Item ID\"] == item_ids[0], \"Price\"].item()\n",
    "price_2 = df3.loc[df3[\"Item ID\"] == item_ids[1], \"Price\"].item()\n",
    "price_3 = df3.loc[df3[\"Item ID\"] == item_ids[2], \"Price\"].item()\n",
    "price_4 = df3.loc[df3[\"Item ID\"] == item_ids[3], \"Price\"].item()\n",
    "price_5 = df3.loc[df3[\"Item ID\"] == item_ids[4], \"Price\"].item()\n",
    "profit_prices = [price_1, price_2, price_3, price_4, price_5]\n",
    "\n",
    "# purchase counts\n",
    "df5 = purchase_data[[\"Item ID\", \"Item Name\", \"Price\"]].groupby(\"Item Name\").count()\n",
    "count_1 = df5.loc[df5.index == profit_names[0], \"Item ID\"].item()\n",
    "count_2 = df5.loc[df5.index == profit_names[1], \"Item ID\"].item()\n",
    "count_3 = df5.loc[df5.index == profit_names[2], \"Item ID\"].item()\n",
    "count_4 = df5.loc[df5.index == profit_names[3], \"Item ID\"].item()\n",
    "count_5 = df5.loc[df5.index == profit_names[4], \"Item ID\"].item()\n",
    "counts = [count_1, count_2, count_3, count_4, count_5]\n",
    "\n",
    "#creating dataframe\n",
    "profit_items_df = pd.DataFrame({\n",
    "    \"Item ID\": item_ids,\n",
    "    \"Item Name\": profit_names,\n",
    "    \"Purchase Count\": counts,\n",
    "    \"Item Price\": profit_prices,\n",
    "    \"Total Purchase Value\": values\n",
    "})\n",
    "profit_items_df = profit_items_df.set_index([\"Item ID\", \"Item Name\"])\n",
    "profit_items_df = profit_items_df[[\"Purchase Count\", \"Item Price\", \"Total Purchase Value\"]]\n",
    "\n",
    "#formatting\n",
    "profit_items_df.style.format({\"Item Price\": \"${:.2f}\",\"Total Purchase Value\": \"${:.2f}\"})"
   ]
  },
  {
   "cell_type": "code",
   "execution_count": null,
   "metadata": {},
   "outputs": [],
   "source": []
  }
 ],
 "metadata": {
  "anaconda-cloud": {},
  "kernel_info": {
   "name": "python3"
  },
  "kernelspec": {
   "display_name": "Python 3",
   "language": "python",
   "name": "python3"
  },
  "language_info": {
   "codemirror_mode": {
    "name": "ipython",
    "version": 3
   },
   "file_extension": ".py",
   "mimetype": "text/x-python",
   "name": "python",
   "nbconvert_exporter": "python",
   "pygments_lexer": "ipython3",
   "version": "3.6.6"
  },
  "nteract": {
   "version": "0.2.0"
  }
 },
 "nbformat": 4,
 "nbformat_minor": 2
}
